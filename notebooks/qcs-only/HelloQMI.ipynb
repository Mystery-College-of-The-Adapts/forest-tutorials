{
 "cells": [
  {
   "cell_type": "markdown",
   "metadata": {},
   "source": [
    "# Hello QMI\n",
    "\n",
    "Welcome to your QMI! Your Quantum Machine Image is a virtual development and execution environment for quantum programming. It is hosted in close physical proximity to the QPUs in Rigetti’s quantum data center. This integrated platform eliminates the network latency found in web API access models, allowing you to iterate faster. It comes with a pre-configured Jupyter server that is a great way to get started writing quantum programs, and running them on the QVM and the QPU. Don't forget to also try connecting to your QMI via `ssh` (Secure Shell), and moving files to and from your QMI using Secure Copy (`scp`). For more information on this, check out our [documentation](https://www.rigetti.com/qcs/docs/getting-started-with-your-qmi#qmi).\n",
    "\n",
    "In this beginner's example, we are going to run a simple `hello_qmi()`. This function composes a simple quantum program, compiles it, and then runs it on the target device of your choice: either the QVM or a QPU. This function is also located in the `hello_qmi.py` file in the home folder of your QMI at `/home/forest/hello_qmi.py`. You can browse to this file directly in Jupyter, or find it by `ssh`ing into your QMI."
   ]
  },
  {
   "cell_type": "markdown",
   "metadata": {},
   "source": [
    "## Imports\n",
    "\n",
    "To import `hello_qmi`, we must include in our path the folder in our QMI where it's located: one folder up from our current directory, or `..`."
   ]
  },
  {
   "cell_type": "code",
   "execution_count": 1,
   "metadata": {},
   "outputs": [],
   "source": [
    "import math\n",
    "import os\n",
    "import sys\n",
    "\n",
    "from pyquil import Program, get_qc\n",
    "from pyquil.api import QVM\n",
    "from pyquil.api._devices import list_lattices\n",
    "from pyquil.gates import RX, MEASURE\n",
    "from pyquil.quil import Pragma"
   ]
  },
  {
   "cell_type": "markdown",
   "metadata": {},
   "source": [
    "## Lattice-related helper functions"
   ]
  },
  {
   "cell_type": "code",
   "execution_count": 2,
   "metadata": {},
   "outputs": [],
   "source": [
    "def query_device(device_name):\n",
    "    \"\"\"\n",
    "    Try to query the device from QCS. Return the lattice dict if it exists,\n",
    "    or None otherwise.\n",
    "    \"\"\"\n",
    "    lattices = list_lattices()\n",
    "    return lattices.get(device_name)\n",
    "\n",
    "\n",
    "def get_active_lattice():\n",
    "    \"\"\"\n",
    "    Try to query which lattice we're engaged to from QCS. Returns the lattice\n",
    "    name if available, otherwise None.\n",
    "    \"\"\"\n",
    "    from rpcq import Client\n",
    "    from pyquil.api._config import PyquilConfig\n",
    "    try:\n",
    "        qcc = Client(endpoint=PyquilConfig().qpu_compiler_url, timeout=1)\n",
    "        return qcc.call(\"get_config_info\")[\"lattice_name\"]\n",
    "    except:\n",
    "        return None"
   ]
  },
  {
   "cell_type": "markdown",
   "metadata": {},
   "source": [
    "## Run against the QVM Simulator\n",
    "\n",
    "The function `hello_qmi` takes an optional argument naming the device to target (the QVM or a QPU). If no argument is provided, the default device is a `9q-generic-qvm`."
   ]
  },
  {
   "cell_type": "code",
   "execution_count": 3,
   "metadata": {},
   "outputs": [],
   "source": [
    "def hello_qmi(device_name=\"9q-generic-qvm\", shots=5):\n",
    "    \"\"\"\n",
    "    Get acquainted with your quantum computer by asking it to perform a simple\n",
    "    coin-toss experiment. Involve 3 qubits in this experiment, and ask each one\n",
    "    to give `shots` many results.\n",
    "\n",
    "    :param device_name: The name of a quantum computer which can be retrieved\n",
    "                        from `pyquil.api.get_qc()`. To find a list of all\n",
    "                        devices, you can use `pyquil.api.list_devices()`.\n",
    "    :param shots:       The number of times to run the Quil program steps\n",
    "    \"\"\"\n",
    "    # Initialize your Quil program\n",
    "    program = Program()\n",
    "    # Allow the compiler to re-index to use available qubits, if necessary.\n",
    "    program += Pragma('INITIAL_REWIRING', ['\"GREEDY\"'])\n",
    "    device = query_device(device_name)\n",
    "    if device is not None:\n",
    "        # device_name refers to a real (QPU) device, so let's construct\n",
    "        # the program from the device's qubits.\n",
    "        readout = program.declare('ro', 'BIT', len(device['qubits']))\n",
    "        for qubit in device['qubits'].values():\n",
    "            program += RX(math.pi / 2, qubit)\n",
    "        for idx, qubit in enumerate(device['qubits'].values()):\n",
    "            program += MEASURE(qubit, readout[idx])\n",
    "    else:\n",
    "        # device_name refers to a non-real (QVM) device, so let's construct\n",
    "        # the program from arbitrary qubits, e.g. 0, 1, and 2\n",
    "\n",
    "        # Declare 3 bits of memory space for the readout results of all three qubits\n",
    "        readout = program.declare('ro', 'BIT', 3)\n",
    "        # For each qubit, apply a pulse to move the qubit's state halfway between\n",
    "        # the 0 state and the 1 state\n",
    "        program += RX(math.pi / 2, 0)\n",
    "        program += RX(math.pi / 2, 1)\n",
    "        program += RX(math.pi / 2, 2)\n",
    "        # Add measurement instructions to measure the qubits and record the result\n",
    "        # into the respective bit in the readout register\n",
    "        program += MEASURE(0, readout[0])\n",
    "        program += MEASURE(1, readout[1])\n",
    "        program += MEASURE(2, readout[2])\n",
    "\n",
    "    # This tells the program how many times to run the above sequence\n",
    "    program.wrap_in_numshots_loop(shots)\n",
    "\n",
    "    # Get the quantum computer we want to run our experiment on\n",
    "    qc = get_qc(device_name)\n",
    "\n",
    "    # Compile the program, specific to which quantum computer we are using\n",
    "    compiled_program = qc.compile(program)\n",
    "\n",
    "    # Run the program and get the shots x 3 array of results\n",
    "    results = qc.run(compiled_program)\n",
    "    # Print the results. We expect to see (shots x 3) random 0's and 1's\n",
    "    print(f\"Your{' virtual' if isinstance(qc.qam, QVM) else ''} quantum \"\n",
    "          f\"computer, {device_name}, greets you with:\\n\", results)"
   ]
  },
  {
   "cell_type": "code",
   "execution_count": 4,
   "metadata": {},
   "outputs": [
    {
     "name": "stdout",
     "output_type": "stream",
     "text": [
      "Your virtual quantum computer, 9q-generic-qvm, greets you with:\n",
      " [[1 0 0]\n",
      " [0 1 0]\n",
      " [1 1 1]\n",
      " [0 0 0]\n",
      " [1 0 0]]\n"
     ]
    }
   ],
   "source": [
    "hello_qmi()"
   ]
  },
  {
   "cell_type": "markdown",
   "metadata": {},
   "source": [
    "Congratulations! You just ran your first program against the QVM simulator."
   ]
  },
  {
   "cell_type": "markdown",
   "metadata": {},
   "source": [
    "## Run against the real QPU\n",
    "To run against a real quantum computer, you only need to change the device argument to the `hello_qmi()` program. What QPU devices are available? We can use pyQuil to get a list."
   ]
  },
  {
   "cell_type": "code",
   "execution_count": 5,
   "metadata": {},
   "outputs": [],
   "source": [
    "# Query available devices (QPUs)\n",
    "from pyquil.api._devices import list_devices, list_lattices"
   ]
  },
  {
   "cell_type": "code",
   "execution_count": 6,
   "metadata": {},
   "outputs": [
    {
     "name": "stdout",
     "output_type": "stream",
     "text": [
      "Available devices: ['Aspen-4', 'Aspen-7'].\n",
      "\n",
      "Available lattices: ['Aspen-7-28Q-A', 'Aspen-7-25Q-B', 'Aspen-7-16Q-B', 'Aspen-7-15Q-B', 'Aspen-7-14Q-B', 'Aspen-7-13Q-B', 'Aspen-4-13Q-E', 'Aspen-7-12Q-B', 'Aspen-7-11Q-B', 'Aspen-7-10Q-B', 'Aspen-7-9Q-B', 'Aspen-4-9Q-E', 'Aspen-7-8Q-B', 'Aspen-4-8Q-E', 'Aspen-7-7Q-B', 'Aspen-4-7Q-E', 'Aspen-7-6Q-B', 'Aspen-4-6Q-E', 'Aspen-7-5Q-B', 'Aspen-4-5Q-E', 'Aspen-7-4Q-B', 'Aspen-7-4Q-C', 'Aspen-4-4Q-E', 'Aspen-4-4Q-D', 'Aspen-4-4Q-A', 'Aspen-4-3Q-A', 'Aspen-7-3Q-B', 'Aspen-4-3Q-E', 'Aspen-4-3Q-D', 'Aspen-4-2Q-C', 'Aspen-7-2Q-B', 'Aspen-4-2Q-A'].\n"
     ]
    }
   ],
   "source": [
    "device_names = list_devices()  # Available devices are subject to change.\n",
    "lattice_names = list(list_lattices().keys())  # Available lattices are subject to change.\n",
    "print(f\"Available devices: {device_names}.\\n\")\n",
    "print(f\"Available lattices: {lattice_names}.\")"
   ]
  },
  {
   "cell_type": "markdown",
   "metadata": {},
   "source": [
    "### A quick note on lattices\n",
    "What are these lattices we just queried? They're subsets of qubits on a QPU, so you can use just the qubits you need. QCS not only makes QPU devices available, but also allows users to target subsets of qubits on each QPU, which we call _lattices_.\n",
    "\n",
    "So let's pick a lattice to target and pass it to the `hello_qmi` function. If you look in `hello_qmi`, you'll see that it's targeting qubits `[0, 1, 2]`. Let's find a lattice that includes these qubits."
   ]
  },
  {
   "cell_type": "code",
   "execution_count": 7,
   "metadata": {
    "scrolled": false
   },
   "outputs": [
    {
     "name": "stderr",
     "output_type": "stream",
     "text": [
      "ERROR - Failed to engage: Your authorization token is missing. Follow the steps at https://qcs.rigetti.com/auth/token to obtain a token.\n"
     ]
    },
    {
     "ename": "UserMessageError",
     "evalue": "Failed to engage: Your authorization token is missing. Follow the steps at https://qcs.rigetti.com/auth/token to obtain a token.",
     "output_type": "error",
     "traceback": [
      "\u001b[0;31m---------------------------------------------------------------------------\u001b[0m",
      "\u001b[0;31mUserMessageError\u001b[0m                          Traceback (most recent call last)",
      "\u001b[0;32m<ipython-input-7-8b7a4ea4fe97>\u001b[0m in \u001b[0;36m<module>\u001b[0;34m\u001b[0m\n\u001b[1;32m      1\u001b[0m \u001b[0mlattice_name\u001b[0m \u001b[0;34m=\u001b[0m \u001b[0mlattice_names\u001b[0m\u001b[0;34m[\u001b[0m\u001b[0;36m0\u001b[0m\u001b[0;34m]\u001b[0m\u001b[0;34m\u001b[0m\u001b[0m\n\u001b[0;32m----> 2\u001b[0;31m \u001b[0mhello_qmi\u001b[0m\u001b[0;34m(\u001b[0m\u001b[0mlattice_name\u001b[0m\u001b[0;34m)\u001b[0m  \u001b[0;31m# ALERT: This will probably result in an error. Please see below.\u001b[0m\u001b[0;34m\u001b[0m\u001b[0m\n\u001b[0m",
      "\u001b[0;32m<ipython-input-3-def5eecee8f2>\u001b[0m in \u001b[0;36mhello_qmi\u001b[0;34m(device_name, shots)\u001b[0m\n\u001b[1;32m     43\u001b[0m \u001b[0;34m\u001b[0m\u001b[0m\n\u001b[1;32m     44\u001b[0m     \u001b[0;31m# Get the quantum computer we want to run our experiment on\u001b[0m\u001b[0;34m\u001b[0m\u001b[0;34m\u001b[0m\u001b[0m\n\u001b[0;32m---> 45\u001b[0;31m     \u001b[0mqc\u001b[0m \u001b[0;34m=\u001b[0m \u001b[0mget_qc\u001b[0m\u001b[0;34m(\u001b[0m\u001b[0mdevice_name\u001b[0m\u001b[0;34m)\u001b[0m\u001b[0;34m\u001b[0m\u001b[0m\n\u001b[0m\u001b[1;32m     46\u001b[0m \u001b[0;34m\u001b[0m\u001b[0m\n\u001b[1;32m     47\u001b[0m     \u001b[0;31m# Compile the program, specific to which quantum computer we are using\u001b[0m\u001b[0;34m\u001b[0m\u001b[0;34m\u001b[0m\u001b[0m\n",
      "\u001b[0;32m~/.pyenv/versions/3.6.3/envs/forest-tutorials/lib/python3.6/site-packages/pyquil/api/_error_reporting.py\u001b[0m in \u001b[0;36mwrapper\u001b[0;34m(*args, **kwargs)\u001b[0m\n\u001b[1;32m    249\u001b[0m             \u001b[0mglobal_error_context\u001b[0m\u001b[0;34m.\u001b[0m\u001b[0mlog\u001b[0m\u001b[0;34m[\u001b[0m\u001b[0mkey\u001b[0m\u001b[0;34m]\u001b[0m \u001b[0;34m=\u001b[0m \u001b[0mpre_entry\u001b[0m\u001b[0;34m\u001b[0m\u001b[0m\n\u001b[1;32m    250\u001b[0m \u001b[0;34m\u001b[0m\u001b[0m\n\u001b[0;32m--> 251\u001b[0;31m         \u001b[0mval\u001b[0m \u001b[0;34m=\u001b[0m \u001b[0mfunc\u001b[0m\u001b[0;34m(\u001b[0m\u001b[0;34m*\u001b[0m\u001b[0margs\u001b[0m\u001b[0;34m,\u001b[0m \u001b[0;34m**\u001b[0m\u001b[0mkwargs\u001b[0m\u001b[0;34m)\u001b[0m\u001b[0;34m\u001b[0m\u001b[0m\n\u001b[0m\u001b[1;32m    252\u001b[0m \u001b[0;34m\u001b[0m\u001b[0m\n\u001b[1;32m    253\u001b[0m         \u001b[0;31m# poke the return value of that call in\u001b[0m\u001b[0;34m\u001b[0m\u001b[0;34m\u001b[0m\u001b[0m\n",
      "\u001b[0;32m~/.pyenv/versions/3.6.3/envs/forest-tutorials/lib/python3.6/site-packages/pyquil/api/_quantum_computer.py\u001b[0m in \u001b[0;36mget_qc\u001b[0;34m(***failed resolving arguments***)\u001b[0m\n\u001b[1;32m    903\u001b[0m             \u001b[0mdevice\u001b[0m\u001b[0;34m=\u001b[0m\u001b[0mdevice\u001b[0m\u001b[0;34m,\u001b[0m\u001b[0;34m\u001b[0m\u001b[0m\n\u001b[1;32m    904\u001b[0m             \u001b[0mname\u001b[0m\u001b[0;34m=\u001b[0m\u001b[0mprefix\u001b[0m\u001b[0;34m,\u001b[0m\u001b[0;34m\u001b[0m\u001b[0m\n\u001b[0;32m--> 905\u001b[0;31m             \u001b[0msession\u001b[0m\u001b[0;34m=\u001b[0m\u001b[0msession\u001b[0m\u001b[0;34m,\u001b[0m\u001b[0;34m\u001b[0m\u001b[0m\n\u001b[0m\u001b[1;32m    906\u001b[0m         )\n\u001b[1;32m    907\u001b[0m \u001b[0;34m\u001b[0m\u001b[0m\n",
      "\u001b[0;32m~/.pyenv/versions/3.6.3/envs/forest-tutorials/lib/python3.6/site-packages/pyquil/api/_error_reporting.py\u001b[0m in \u001b[0;36mwrapper\u001b[0;34m(*args, **kwargs)\u001b[0m\n\u001b[1;32m    249\u001b[0m             \u001b[0mglobal_error_context\u001b[0m\u001b[0;34m.\u001b[0m\u001b[0mlog\u001b[0m\u001b[0;34m[\u001b[0m\u001b[0mkey\u001b[0m\u001b[0;34m]\u001b[0m \u001b[0;34m=\u001b[0m \u001b[0mpre_entry\u001b[0m\u001b[0;34m\u001b[0m\u001b[0m\n\u001b[1;32m    250\u001b[0m \u001b[0;34m\u001b[0m\u001b[0m\n\u001b[0;32m--> 251\u001b[0;31m         \u001b[0mval\u001b[0m \u001b[0;34m=\u001b[0m \u001b[0mfunc\u001b[0m\u001b[0;34m(\u001b[0m\u001b[0;34m*\u001b[0m\u001b[0margs\u001b[0m\u001b[0;34m,\u001b[0m \u001b[0;34m**\u001b[0m\u001b[0mkwargs\u001b[0m\u001b[0;34m)\u001b[0m\u001b[0;34m\u001b[0m\u001b[0m\n\u001b[0m\u001b[1;32m    252\u001b[0m \u001b[0;34m\u001b[0m\u001b[0m\n\u001b[1;32m    253\u001b[0m         \u001b[0;31m# poke the return value of that call in\u001b[0m\u001b[0;34m\u001b[0m\u001b[0;34m\u001b[0m\u001b[0m\n",
      "\u001b[0;32m~/.pyenv/versions/3.6.3/envs/forest-tutorials/lib/python3.6/site-packages/pyquil/api/_compiler.py\u001b[0m in \u001b[0;36m__init__\u001b[0;34m(self, quilc_endpoint, qpu_compiler_endpoint, device, timeout, name, session)\u001b[0m\n\u001b[1;32m    238\u001b[0m \u001b[0;34m\u001b[0m\u001b[0m\n\u001b[1;32m    239\u001b[0m         \u001b[0;32mtry\u001b[0m\u001b[0;34m:\u001b[0m\u001b[0;34m\u001b[0m\u001b[0m\n\u001b[0;32m--> 240\u001b[0;31m             \u001b[0mself\u001b[0m\u001b[0;34m.\u001b[0m\u001b[0mconnect\u001b[0m\u001b[0;34m(\u001b[0m\u001b[0;34m)\u001b[0m\u001b[0;34m\u001b[0m\u001b[0m\n\u001b[0m\u001b[1;32m    241\u001b[0m         \u001b[0;32mexcept\u001b[0m \u001b[0mQuilcNotRunning\u001b[0m \u001b[0;32mas\u001b[0m \u001b[0me\u001b[0m\u001b[0;34m:\u001b[0m\u001b[0;34m\u001b[0m\u001b[0m\n\u001b[1;32m    242\u001b[0m             \u001b[0mwarnings\u001b[0m\u001b[0;34m.\u001b[0m\u001b[0mwarn\u001b[0m\u001b[0;34m(\u001b[0m\u001b[0;34mf\"{e}. Compilation using quilc will not be available.\"\u001b[0m\u001b[0;34m)\u001b[0m\u001b[0;34m\u001b[0m\u001b[0m\n",
      "\u001b[0;32m~/.pyenv/versions/3.6.3/envs/forest-tutorials/lib/python3.6/site-packages/pyquil/api/_compiler.py\u001b[0m in \u001b[0;36mconnect\u001b[0;34m(self)\u001b[0m\n\u001b[1;32m    278\u001b[0m     \u001b[0;32mdef\u001b[0m \u001b[0mconnect\u001b[0m\u001b[0;34m(\u001b[0m\u001b[0mself\u001b[0m\u001b[0;34m)\u001b[0m \u001b[0;34m->\u001b[0m \u001b[0;32mNone\u001b[0m\u001b[0;34m:\u001b[0m\u001b[0;34m\u001b[0m\u001b[0m\n\u001b[1;32m    279\u001b[0m         \u001b[0mself\u001b[0m\u001b[0;34m.\u001b[0m\u001b[0m_connect_quilc\u001b[0m\u001b[0;34m(\u001b[0m\u001b[0;34m)\u001b[0m\u001b[0;34m\u001b[0m\u001b[0m\n\u001b[0;32m--> 280\u001b[0;31m         \u001b[0;32mif\u001b[0m \u001b[0mself\u001b[0m\u001b[0;34m.\u001b[0m\u001b[0mqpu_compiler_client\u001b[0m\u001b[0;34m:\u001b[0m\u001b[0;34m\u001b[0m\u001b[0m\n\u001b[0m\u001b[1;32m    281\u001b[0m             \u001b[0mself\u001b[0m\u001b[0;34m.\u001b[0m\u001b[0m_connect_qpu_compiler\u001b[0m\u001b[0;34m(\u001b[0m\u001b[0;34m)\u001b[0m\u001b[0;34m\u001b[0m\u001b[0m\n\u001b[1;32m    282\u001b[0m \u001b[0;34m\u001b[0m\u001b[0m\n",
      "\u001b[0;32m~/.pyenv/versions/3.6.3/envs/forest-tutorials/lib/python3.6/site-packages/pyquil/api/_compiler.py\u001b[0m in \u001b[0;36mqpu_compiler_client\u001b[0;34m(self)\u001b[0m\n\u001b[1;32m    251\u001b[0m                 \u001b[0mendpoint\u001b[0m \u001b[0;34m=\u001b[0m \u001b[0mself\u001b[0m\u001b[0;34m.\u001b[0m\u001b[0mqpu_compiler_endpoint\u001b[0m\u001b[0;34m\u001b[0m\u001b[0m\n\u001b[1;32m    252\u001b[0m             \u001b[0;32melif\u001b[0m \u001b[0mself\u001b[0m\u001b[0;34m.\u001b[0m\u001b[0msession\u001b[0m\u001b[0;34m:\u001b[0m\u001b[0;34m\u001b[0m\u001b[0m\n\u001b[0;32m--> 253\u001b[0;31m                 \u001b[0mendpoint\u001b[0m \u001b[0;34m=\u001b[0m \u001b[0mself\u001b[0m\u001b[0;34m.\u001b[0m\u001b[0msession\u001b[0m\u001b[0;34m.\u001b[0m\u001b[0mconfig\u001b[0m\u001b[0;34m.\u001b[0m\u001b[0mqpu_compiler_url\u001b[0m\u001b[0;34m\u001b[0m\u001b[0m\n\u001b[0m\u001b[1;32m    254\u001b[0m \u001b[0;34m\u001b[0m\u001b[0m\n\u001b[1;32m    255\u001b[0m             \u001b[0;32mif\u001b[0m \u001b[0mendpoint\u001b[0m \u001b[0;32mis\u001b[0m \u001b[0;32mnot\u001b[0m \u001b[0;32mNone\u001b[0m\u001b[0;34m:\u001b[0m\u001b[0;34m\u001b[0m\u001b[0m\n",
      "\u001b[0;32m~/.pyenv/versions/3.6.3/envs/forest-tutorials/lib/python3.6/site-packages/pyquil/api/_config.py\u001b[0m in \u001b[0;36mqpu_compiler_url\u001b[0;34m(self)\u001b[0m\n\u001b[1;32m    278\u001b[0m     \u001b[0;34m@\u001b[0m\u001b[0mproperty\u001b[0m\u001b[0;34m\u001b[0m\u001b[0m\n\u001b[1;32m    279\u001b[0m     \u001b[0;32mdef\u001b[0m \u001b[0mqpu_compiler_url\u001b[0m\u001b[0;34m(\u001b[0m\u001b[0mself\u001b[0m\u001b[0;34m)\u001b[0m \u001b[0;34m->\u001b[0m \u001b[0mOptional\u001b[0m\u001b[0;34m[\u001b[0m\u001b[0mstr\u001b[0m\u001b[0;34m]\u001b[0m\u001b[0;34m:\u001b[0m\u001b[0;34m\u001b[0m\u001b[0m\n\u001b[0;32m--> 280\u001b[0;31m         \u001b[0;32mreturn\u001b[0m \u001b[0mself\u001b[0m\u001b[0;34m.\u001b[0m\u001b[0m_env_or_config_or_default\u001b[0m\u001b[0;34m(\u001b[0m\u001b[0;34m**\u001b[0m\u001b[0mself\u001b[0m\u001b[0;34m.\u001b[0m\u001b[0mQPU_COMPILER_URL\u001b[0m\u001b[0;34m)\u001b[0m\u001b[0;34m\u001b[0m\u001b[0m\n\u001b[0m\u001b[1;32m    281\u001b[0m \u001b[0;34m\u001b[0m\u001b[0m\n\u001b[1;32m    282\u001b[0m     \u001b[0;34m@\u001b[0m\u001b[0mproperty\u001b[0m\u001b[0;34m\u001b[0m\u001b[0m\n",
      "\u001b[0;32m~/.pyenv/versions/3.6.3/envs/forest-tutorials/lib/python3.6/site-packages/pyquil/api/_config.py\u001b[0m in \u001b[0;36m_env_or_config_or_default\u001b[0;34m(self, env, file, section, name, default, engagement_key)\u001b[0m\n\u001b[1;32m    218\u001b[0m         \u001b[0;32massert\u001b[0m \u001b[0mself\u001b[0m\u001b[0;34m.\u001b[0m\u001b[0mget_engagement\u001b[0m \u001b[0;32mis\u001b[0m \u001b[0;32mnot\u001b[0m \u001b[0;32mNone\u001b[0m\u001b[0;34m\u001b[0m\u001b[0m\n\u001b[1;32m    219\u001b[0m         \u001b[0;32mtry\u001b[0m\u001b[0;34m:\u001b[0m\u001b[0;34m\u001b[0m\u001b[0m\n\u001b[0;32m--> 220\u001b[0;31m             \u001b[0;32mif\u001b[0m \u001b[0mengagement_key\u001b[0m \u001b[0;32mis\u001b[0m \u001b[0;32mnot\u001b[0m \u001b[0;32mNone\u001b[0m \u001b[0;32mand\u001b[0m \u001b[0mself\u001b[0m\u001b[0;34m.\u001b[0m\u001b[0mget_engagement\u001b[0m\u001b[0;34m(\u001b[0m\u001b[0;34m)\u001b[0m \u001b[0;32mis\u001b[0m \u001b[0;32mnot\u001b[0m \u001b[0;32mNone\u001b[0m\u001b[0;34m:\u001b[0m\u001b[0;34m\u001b[0m\u001b[0m\n\u001b[0m\u001b[1;32m    221\u001b[0m                 \u001b[0mself\u001b[0m\u001b[0;34m.\u001b[0m\u001b[0m_engagement_requested\u001b[0m \u001b[0;34m=\u001b[0m \u001b[0;32mTrue\u001b[0m\u001b[0;34m\u001b[0m\u001b[0m\n\u001b[1;32m    222\u001b[0m                 \u001b[0;32mreturn\u001b[0m \u001b[0mcast\u001b[0m\u001b[0;34m(\u001b[0m\u001b[0mstr\u001b[0m\u001b[0;34m,\u001b[0m \u001b[0mgetattr\u001b[0m\u001b[0;34m(\u001b[0m\u001b[0mself\u001b[0m\u001b[0;34m.\u001b[0m\u001b[0mget_engagement\u001b[0m\u001b[0;34m(\u001b[0m\u001b[0;34m)\u001b[0m\u001b[0;34m,\u001b[0m \u001b[0mengagement_key\u001b[0m\u001b[0;34m)\u001b[0m\u001b[0;34m)\u001b[0m\u001b[0;34m\u001b[0m\u001b[0m\n",
      "\u001b[0;32m~/.pyenv/versions/3.6.3/envs/forest-tutorials/lib/python3.6/site-packages/pyquil/api/_base_connection.py\u001b[0m in \u001b[0;36mget_engagement\u001b[0;34m(self)\u001b[0m\n\u001b[1;32m    409\u001b[0m         \"\"\"\n\u001b[1;32m    410\u001b[0m         \u001b[0;32mif\u001b[0m \u001b[0;32mnot\u001b[0m \u001b[0;34m(\u001b[0m\u001b[0mself\u001b[0m\u001b[0;34m.\u001b[0m\u001b[0m_engagement\u001b[0m \u001b[0;32mand\u001b[0m \u001b[0mself\u001b[0m\u001b[0;34m.\u001b[0m\u001b[0m_engagement\u001b[0m\u001b[0;34m.\u001b[0m\u001b[0mis_valid\u001b[0m\u001b[0;34m(\u001b[0m\u001b[0;34m)\u001b[0m\u001b[0;34m)\u001b[0m\u001b[0;34m:\u001b[0m\u001b[0;34m\u001b[0m\u001b[0m\n\u001b[0;32m--> 411\u001b[0;31m             \u001b[0mself\u001b[0m\u001b[0;34m.\u001b[0m\u001b[0m_engagement\u001b[0m \u001b[0;34m=\u001b[0m \u001b[0mself\u001b[0m\u001b[0;34m.\u001b[0m\u001b[0m_engage\u001b[0m\u001b[0;34m(\u001b[0m\u001b[0;34m)\u001b[0m\u001b[0;34m\u001b[0m\u001b[0m\n\u001b[0m\u001b[1;32m    412\u001b[0m         \u001b[0;32mreturn\u001b[0m \u001b[0mself\u001b[0m\u001b[0;34m.\u001b[0m\u001b[0m_engagement\u001b[0m\u001b[0;34m\u001b[0m\u001b[0m\n\u001b[1;32m    413\u001b[0m \u001b[0;34m\u001b[0m\u001b[0m\n",
      "\u001b[0;32m~/.pyenv/versions/3.6.3/envs/forest-tutorials/lib/python3.6/site-packages/pyquil/api/_base_connection.py\u001b[0m in \u001b[0;36m_engage\u001b[0;34m(self)\u001b[0m\n\u001b[1;32m    374\u001b[0m             \u001b[0merrors\u001b[0m \u001b[0;34m=\u001b[0m \u001b[0mquery_response\u001b[0m\u001b[0;34m.\u001b[0m\u001b[0mget\u001b[0m\u001b[0;34m(\u001b[0m\u001b[0;34m\"errors\"\u001b[0m\u001b[0;34m,\u001b[0m \u001b[0;34m[\u001b[0m\u001b[0;34m]\u001b[0m\u001b[0;34m)\u001b[0m\u001b[0;34m\u001b[0m\u001b[0m\n\u001b[1;32m    375\u001b[0m             \u001b[0merror_messages\u001b[0m \u001b[0;34m=\u001b[0m \u001b[0mmap\u001b[0m\u001b[0;34m(\u001b[0m\u001b[0;32mlambda\u001b[0m \u001b[0merror\u001b[0m\u001b[0;34m:\u001b[0m \u001b[0merror\u001b[0m\u001b[0;34m[\u001b[0m\u001b[0;34m\"message\"\u001b[0m\u001b[0;34m]\u001b[0m\u001b[0;34m,\u001b[0m \u001b[0merrors\u001b[0m\u001b[0;34m)\u001b[0m  \u001b[0;31m# type: ignore\u001b[0m\u001b[0;34m\u001b[0m\u001b[0m\n\u001b[0;32m--> 376\u001b[0;31m             \u001b[0;32mraise\u001b[0m \u001b[0mUserMessageError\u001b[0m\u001b[0;34m(\u001b[0m\u001b[0;34mf\"Failed to engage: {','.join(error_messages)}\"\u001b[0m\u001b[0;34m)\u001b[0m\u001b[0;34m\u001b[0m\u001b[0m\n\u001b[0m\u001b[1;32m    377\u001b[0m \u001b[0;34m\u001b[0m\u001b[0m\n\u001b[1;32m    378\u001b[0m         \u001b[0mengagement_response\u001b[0m \u001b[0;34m=\u001b[0m \u001b[0mquery_response\u001b[0m\u001b[0;34m.\u001b[0m\u001b[0mget\u001b[0m\u001b[0;34m(\u001b[0m\u001b[0;34m\"data\"\u001b[0m\u001b[0;34m,\u001b[0m \u001b[0;34m{\u001b[0m\u001b[0;34m}\u001b[0m\u001b[0;34m)\u001b[0m\u001b[0;34m.\u001b[0m\u001b[0mget\u001b[0m\u001b[0;34m(\u001b[0m\u001b[0;34m\"engage\"\u001b[0m\u001b[0;34m,\u001b[0m \u001b[0;32mNone\u001b[0m\u001b[0;34m)\u001b[0m\u001b[0;34m\u001b[0m\u001b[0m\n",
      "\u001b[0;31mUserMessageError\u001b[0m: Failed to engage: Your authorization token is missing. Follow the steps at https://qcs.rigetti.com/auth/token to obtain a token."
     ]
    }
   ],
   "source": [
    "lattice_name = lattice_names[0]\n",
    "hello_qmi(lattice_name)  # ALERT: This will probably result in an error. Please see below."
   ]
  },
  {
   "cell_type": "markdown",
   "metadata": {},
   "source": [
    "### Hey, why didn't that work?\n",
    "Did you get an error above? If so, **it's because you haven't yet booked time on the QPU**. QCS makes its QPUs available by reservation. You can book reservations via the [QCS Dashboard](https://qcs.rigetti.com/dashboard), or via the `qcs` command, which comes pre-installed in your QMI. If you've `ssh`'d into your QMI, you can type the following:\n",
    "\n",
    "```\n",
    "qcs reserve --lattice Aspen-1-2Q-B\n",
    "```\n",
    "\n",
    "Give it a try! Once your reservation begins, you can then re-run the above cell on the lattice you've booked, and get results from our QPU."
   ]
  },
  {
   "cell_type": "markdown",
   "metadata": {},
   "source": [
    "## Where to go from here\n",
    "\n",
    "This is just the beginning of your journey with QCS. Next, feel free to take a look under the hood at some of the QCS features that unlock the full potential of the platform for fast hybrid programming. These can be found in the other pre-loaded example notebooks. Or try writing some new notebooks of your own.\n",
    "\n",
    "As a gentle reminder, we recommend you learn how to `ssh` into your QMI, and move files to and from it via `scp` by following the docs [here](https://www.rigetti.com/qcs/docs/getting-started-with-your-qmi#qmi). If you have any trouble getting things set up, please reach out to support@rigetti.com.\n",
    "\n",
    "Happy quantum programming.\n",
    "\n",
    "*-- The QCS Team*"
   ]
  }
 ],
 "metadata": {
  "kernelspec": {
   "display_name": "Python 3",
   "language": "python",
   "name": "python3"
  },
  "language_info": {
   "codemirror_mode": {
    "name": "ipython",
    "version": 3
   },
   "file_extension": ".py",
   "mimetype": "text/x-python",
   "name": "python",
   "nbconvert_exporter": "python",
   "pygments_lexer": "ipython3",
   "version": "3.6.3"
  }
 },
 "nbformat": 4,
 "nbformat_minor": 2
}
