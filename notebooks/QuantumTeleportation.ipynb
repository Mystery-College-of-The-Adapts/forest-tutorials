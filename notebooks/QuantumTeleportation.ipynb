{
 "cells": [
  {
   "cell_type": "markdown",
   "metadata": {},
   "source": [
    "# Quantum Teleportation"
   ]
  },
  {
   "cell_type": "code",
   "execution_count": 1,
   "metadata": {},
   "outputs": [],
   "source": [
    "from pyquil.quil import Program\n",
    "from pyquil import api\n",
    "from pyquil.gates import X, Z, H, CNOT"
   ]
  },
  {
   "cell_type": "code",
   "execution_count": 2,
   "metadata": {},
   "outputs": [],
   "source": [
    "def make_bell_pair(q1, q2):\n",
    "    \"\"\"Makes a bell pair between qubits q1 and q2\n",
    "    \"\"\"\n",
    "    return Program(H(q1), CNOT(q1, q2))\n",
    "\n",
    "\n",
    "def teleport(start_index, end_index, ancilla_index):\n",
    "    \"\"\"Teleport a qubit from start to end using an ancilla qubit\n",
    "    \"\"\"\n",
    "    program = make_bell_pair(end_index, ancilla_index)\n",
    "\n",
    "    ro = program.declare(\"ro\", memory_size=3)\n",
    "\n",
    "    # do the teleportation\n",
    "    program.inst(CNOT(start_index, ancilla_index))\n",
    "    program.inst(H(start_index))\n",
    "\n",
    "    # measure the results and store them in classical registers [0] and [1]\n",
    "    program.measure(start_index, ro[0])\n",
    "    program.measure(ancilla_index, ro[1])\n",
    "\n",
    "    program.if_then(ro[1], X(2))\n",
    "    program.if_then(ro[0], Z(2))\n",
    "\n",
    "    program.measure(end_index, ro[2])\n",
    "\n",
    "    print(program)\n",
    "    return program"
   ]
  },
  {
   "cell_type": "code",
   "execution_count": 3,
   "metadata": {},
   "outputs": [
    {
     "name": "stdout",
     "output_type": "stream",
     "text": [
      "H 2\n",
      "CNOT 2 1\n",
      "DECLARE ro BIT[3]\n",
      "CNOT 0 1\n",
      "H 0\n",
      "MEASURE 0 ro[0]\n",
      "MEASURE 1 ro[1]\n",
      "JUMP-WHEN @THEN1 ro[1]\n",
      "JUMP @END2\n",
      "LABEL @THEN1\n",
      "X 2\n",
      "LABEL @END2\n",
      "JUMP-WHEN @THEN3 ro[0]\n",
      "JUMP @END4\n",
      "LABEL @THEN3\n",
      "Z 2\n",
      "LABEL @END4\n",
      "MEASURE 2 ro[2]\n",
      "\n",
      "Teleporting |1> state: [[1]]\n",
      "H 2\n",
      "CNOT 2 1\n",
      "DECLARE ro BIT[3]\n",
      "CNOT 0 1\n",
      "H 0\n",
      "MEASURE 0 ro[0]\n",
      "MEASURE 1 ro[1]\n",
      "JUMP-WHEN @THEN1 ro[1]\n",
      "JUMP @END2\n",
      "LABEL @THEN1\n",
      "X 2\n",
      "LABEL @END2\n",
      "JUMP-WHEN @THEN3 ro[0]\n",
      "JUMP @END4\n",
      "LABEL @THEN3\n",
      "Z 2\n",
      "LABEL @END4\n",
      "MEASURE 2 ro[2]\n",
      "\n",
      "Teleporting |0> state: [[0]]\n",
      "H 2\n",
      "CNOT 2 1\n",
      "DECLARE ro BIT[3]\n",
      "CNOT 0 1\n",
      "H 0\n",
      "MEASURE 0 ro[0]\n",
      "MEASURE 1 ro[1]\n",
      "JUMP-WHEN @THEN1 ro[1]\n",
      "JUMP @END2\n",
      "LABEL @THEN1\n",
      "X 2\n",
      "LABEL @END2\n",
      "JUMP-WHEN @THEN3 ro[0]\n",
      "JUMP @END4\n",
      "LABEL @THEN3\n",
      "Z 2\n",
      "LABEL @END4\n",
      "MEASURE 2 ro[2]\n",
      "\n",
      "Teleporting |+> state: [[0], [1], [1], [1], [0], [0], [1], [0], [0], [0]]\n"
     ]
    }
   ],
   "source": [
    "qvm = api.QVMConnection()\n",
    "\n",
    "# initialize qubit 0 in |1>\n",
    "teleport_demo = Program(X(0))\n",
    "teleport_demo += teleport(0, 2, 1)\n",
    "print(\"Teleporting |1> state: {}\".format(qvm.run(teleport_demo, [2])))\n",
    "\n",
    "# initialize qubit 0 in |0>\n",
    "teleport_demo = Program()\n",
    "teleport_demo += teleport(0, 2, 1)\n",
    "print(\"Teleporting |0> state: {}\".format(qvm.run(teleport_demo, [2])))\n",
    "\n",
    "# initialize qubit 0 in |+>\n",
    "teleport_demo = Program(H(0))\n",
    "teleport_demo += teleport(0, 2, 1)\n",
    "print(\"Teleporting |+> state: {}\".format(qvm.run(teleport_demo, [2], 10)))"
   ]
  }
 ],
 "metadata": {
  "kernelspec": {
   "display_name": "Python 3",
   "language": "python",
   "name": "python3"
  },
  "language_info": {
   "codemirror_mode": {
    "name": "ipython",
    "version": 3
   },
   "file_extension": ".py",
   "mimetype": "text/x-python",
   "name": "python",
   "nbconvert_exporter": "python",
   "pygments_lexer": "ipython3",
   "version": "3.7.3"
  }
 },
 "nbformat": 4,
 "nbformat_minor": 4
}
