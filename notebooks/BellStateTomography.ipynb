{
 "cells": [
  {
   "cell_type": "markdown",
   "metadata": {},
   "source": [
    "# Bell State Tomography via Parametric Compilation\n",
    "\n",
    "This notebook walks through how to run **Bell state tomography** on a noisy QVM, using _parametric compilation_ and pyQuil's `Experiment` framework. This notebook is copied partially from the [rigetti/qcs-paper](https://github.com/rigetti/qcs-paper) repository, where it was used to produce **Figure A2** from [_A quantum-classical cloud platform optimized for variational hybrid algorithms_](https://scirate.com/arxiv/2001.04449)."
   ]
  },
  {
   "cell_type": "code",
   "execution_count": 1,
   "metadata": {},
   "outputs": [
    {
     "name": "stderr",
     "output_type": "stream",
     "text": [
      "/Users/peter/.pyenv/versions/3.6.3/envs/forest-tutorials/lib/python3.6/site-packages/pyquil/gate_matrices.py:24: FutureWarning: The code in pyquil.gate_matrices has been moved to pyquil.simulation.matrices, please update your import statements.\n",
      "  FutureWarning,\n"
     ]
    }
   ],
   "source": [
    "import itertools\n",
    "from typing import Generator, List\n",
    "\n",
    "import matplotlib.pyplot as plt\n",
    "import numpy as np\n",
    "import pandas as pd\n",
    "from matplotlib.cm import ScalarMappable\n",
    "from matplotlib.colors import LinearSegmentedColormap, Normalize\n",
    "from scipy.linalg import pinv\n",
    "\n",
    "import pyquil.simulation.matrices as psm\n",
    "from forest.benchmarking.distance_measures import fidelity\n",
    "from forest.benchmarking.operator_tools.superoperator_transformations import unvec, vec\n",
    "from forest.benchmarking.utils import all_traceless_pauli_terms\n",
    "from pyquil import get_qc, Program\n",
    "from pyquil.experiment import (\n",
    "    Experiment, ExperimentResult, ExperimentSetting, correct_experiment_result, zeros_state\n",
    ")\n",
    "from pyquil.gates import CNOT, H, RESET\n",
    "from pyquil.paulis import PauliTerm\n",
    "from pyquil.simulation.tools import lifted_pauli"
   ]
  },
  {
   "cell_type": "markdown",
   "metadata": {},
   "source": [
    "## Simulate the Data on a Noisy QVM"
   ]
  },
  {
   "cell_type": "code",
   "execution_count": 2,
   "metadata": {},
   "outputs": [],
   "source": [
    "qubits = (0, 1)\n",
    "shots = 500\n",
    "qc = get_qc(\"2q-noisy-qvm\")"
   ]
  },
  {
   "cell_type": "markdown",
   "metadata": {},
   "source": [
    "### Define Bell state tomography `Experiment`"
   ]
  },
  {
   "cell_type": "code",
   "execution_count": 3,
   "metadata": {},
   "outputs": [
    {
     "name": "stdout",
     "output_type": "stream",
     "text": [
      "RESET\n",
      "H 0\n",
      "CNOT 0 1\n",
      "\n"
     ]
    }
   ],
   "source": [
    "p = Program()\n",
    "p += RESET()\n",
    "p += H(qubits[0])\n",
    "p += CNOT(qubits[0], qubits[1])\n",
    "p.wrap_in_numshots_loop(shots)\n",
    "print(p)"
   ]
  },
  {
   "cell_type": "code",
   "execution_count": 4,
   "metadata": {},
   "outputs": [],
   "source": [
    "def state_tomo_settings(qubits: List[int]) -> Generator[ExperimentSetting, None, None]:\n",
    "    \"\"\"\n",
    "    Adapted from forest.benchmarking.tomography._state_tomo_settings,\n",
    "    to use pyquil.experiment.ExperimentSetting objects instead.\n",
    "    \"\"\"\n",
    "    list_of_terms = all_traceless_pauli_terms(qubits)\n",
    "    for obs in all_traceless_pauli_terms(qubits):\n",
    "        yield ExperimentSetting(\n",
    "            in_state=zeros_state(qubits),\n",
    "            out_operator=obs,\n",
    "        )"
   ]
  },
  {
   "cell_type": "code",
   "execution_count": 5,
   "metadata": {},
   "outputs": [
    {
     "data": {
      "text/plain": [
       "[ExperimentSetting[Z0_0 * Z0_1→(1+0j)*X1],\n",
       " ExperimentSetting[Z0_0 * Z0_1→(1+0j)*Y1],\n",
       " ExperimentSetting[Z0_0 * Z0_1→(1+0j)*Z1],\n",
       " ExperimentSetting[Z0_0 * Z0_1→(1+0j)*X0],\n",
       " ExperimentSetting[Z0_0 * Z0_1→(1+0j)*X0X1],\n",
       " ExperimentSetting[Z0_0 * Z0_1→(1+0j)*X0Y1],\n",
       " ExperimentSetting[Z0_0 * Z0_1→(1+0j)*X0Z1],\n",
       " ExperimentSetting[Z0_0 * Z0_1→(1+0j)*Y0],\n",
       " ExperimentSetting[Z0_0 * Z0_1→(1+0j)*Y0X1],\n",
       " ExperimentSetting[Z0_0 * Z0_1→(1+0j)*Y0Y1],\n",
       " ExperimentSetting[Z0_0 * Z0_1→(1+0j)*Y0Z1],\n",
       " ExperimentSetting[Z0_0 * Z0_1→(1+0j)*Z0],\n",
       " ExperimentSetting[Z0_0 * Z0_1→(1+0j)*Z0X1],\n",
       " ExperimentSetting[Z0_0 * Z0_1→(1+0j)*Z0Y1],\n",
       " ExperimentSetting[Z0_0 * Z0_1→(1+0j)*Z0Z1]]"
      ]
     },
     "execution_count": 5,
     "metadata": {},
     "output_type": "execute_result"
    }
   ],
   "source": [
    "state_tomography_settings = list(state_tomo_settings(qubits))\n",
    "state_tomography_settings"
   ]
  },
  {
   "cell_type": "code",
   "execution_count": 6,
   "metadata": {},
   "outputs": [
    {
     "data": {
      "text/plain": [
       "shots: 500\n",
       "active reset: enabled\n",
       "symmetrization: -1 (exhaustive)\n",
       "calibration: 1 (plus_eigenstate)\n",
       "program:\n",
       "   H 0\n",
       "   CNOT 0 1\n",
       "settings:\n",
       "   0: Z0_0 * Z0_1→(1+0j)*X1\n",
       "   1: Z0_0 * Z0_1→(1+0j)*Y1\n",
       "   2: Z0_0 * Z0_1→(1+0j)*Z1\n",
       "   3: Z0_0 * Z0_1→(1+0j)*X0\n",
       "   4: Z0_0 * Z0_1→(1+0j)*X0X1\n",
       "   5: Z0_0 * Z0_1→(1+0j)*X0Y1\n",
       "   6: Z0_0 * Z0_1→(1+0j)*X0Z1\n",
       "   7: Z0_0 * Z0_1→(1+0j)*Y0\n",
       "   8: Z0_0 * Z0_1→(1+0j)*Y0X1\n",
       "   9: Z0_0 * Z0_1→(1+0j)*Y0Y1\n",
       "   10: Z0_0 * Z0_1→(1+0j)*Y0Z1\n",
       "   11: Z0_0 * Z0_1→(1+0j)*Z0\n",
       "   12: Z0_0 * Z0_1→(1+0j)*Z0X1\n",
       "   13: Z0_0 * Z0_1→(1+0j)*Z0Y1\n",
       "   14: Z0_0 * Z0_1→(1+0j)*Z0Z1"
      ]
     },
     "execution_count": 6,
     "metadata": {},
     "output_type": "execute_result"
    }
   ],
   "source": [
    "bell_state_tomography = Experiment(settings=state_tomography_settings, program=p)\n",
    "bell_state_tomography"
   ]
  },
  {
   "cell_type": "markdown",
   "metadata": {},
   "source": [
    "### Collect data using readout symmetrization"
   ]
  },
  {
   "cell_type": "code",
   "execution_count": 7,
   "metadata": {},
   "outputs": [
    {
     "name": "stdout",
     "output_type": "stream",
     "text": [
      "CPU times: user 1.8 s, sys: 11.1 ms, total: 1.81 s\n",
      "Wall time: 3.61 s\n"
     ]
    },
    {
     "data": {
      "text/plain": [
       "[ExperimentResult[Z0_0 * Z0_1→(1+0j)*X1: 0.004 +- 0.03163834674860532],\n",
       " ExperimentResult[Z0_0 * Z0_1→(1+0j)*Y1: -0.038 +- 0.03161574853701167],\n",
       " ExperimentResult[Z0_0 * Z0_1→(1+0j)*Z1: 0.016 +- 0.03163454985841817],\n",
       " ExperimentResult[Z0_0 * Z0_1→(1+0j)*X0: -0.006 +- 0.03163803035849364],\n",
       " ExperimentResult[Z0_0 * Z0_1→(1+0j)*X0X1: 0.759 +- 0.014562470009115317],\n",
       " ExperimentResult[Z0_0 * Z0_1→(1+0j)*X0Y1: -0.003 +- 0.02236617139367857],\n",
       " ExperimentResult[Z0_0 * Z0_1→(1+0j)*X0Z1: 0.028 +- 0.022357502744369335],\n",
       " ExperimentResult[Z0_0 * Z0_1→(1+0j)*Y0: -0.018 +- 0.0316334739900106],\n",
       " ExperimentResult[Z0_0 * Z0_1→(1+0j)*Y0X1: 0.024 +- 0.022359829627939816],\n",
       " ExperimentResult[Z0_0 * Z0_1→(1+0j)*Y0Y1: -0.749 +- 0.014819220784249288],\n",
       " ExperimentResult[Z0_0 * Z0_1→(1+0j)*Y0Z1: -0.031 +- 0.022355522465206355],\n",
       " ExperimentResult[Z0_0 * Z0_1→(1+0j)*Z0: 0.024 +- 0.03162948662916338],\n",
       " ExperimentResult[Z0_0 * Z0_1→(1+0j)*Z0X1: 0.015 +- 0.022363755694971985],\n",
       " ExperimentResult[Z0_0 * Z0_1→(1+0j)*Z0Y1: -0.001 +- 0.022366260858990406],\n",
       " ExperimentResult[Z0_0 * Z0_1→(1+0j)*Z0Z1: 0.749 +- 0.014819220784249288]]"
      ]
     },
     "execution_count": 7,
     "metadata": {},
     "output_type": "execute_result"
    }
   ],
   "source": [
    "%%time\n",
    "results = qc.experiment(bell_state_tomography)\n",
    "results"
   ]
  },
  {
   "cell_type": "markdown",
   "metadata": {},
   "source": [
    "### Perform readout calibration on all observables required for 2Q state tomography"
   ]
  },
  {
   "cell_type": "code",
   "execution_count": 8,
   "metadata": {},
   "outputs": [
    {
     "name": "stdout",
     "output_type": "stream",
     "text": [
      "CPU times: user 1.76 s, sys: 10.4 ms, total: 1.77 s\n",
      "Wall time: 3.64 s\n"
     ]
    },
    {
     "data": {
      "text/plain": [
       "[ExperimentResult[X0_1→(1+0j)*X1: 0.876 +- 0.015259647992560535],\n",
       " ExperimentResult[Y0_1→(1+0j)*Y1: 0.866 +- 0.01582069196635515],\n",
       " ExperimentResult[Z0_1→(1+0j)*Z1: 0.882 +- 0.014909671300813386],\n",
       " ExperimentResult[X0_0→(1+0j)*X0: 0.864 +- 0.015929775822583245],\n",
       " ExperimentResult[X0_0 * X0_1→(1+0j)*X0X1: 0.768 +- 0.01432447539345329],\n",
       " ExperimentResult[X0_0 * Y0_1→(1+0j)*X0Y1: 0.764 +- 0.014431082012934165],\n",
       " ExperimentResult[X0_0 * Z0_1→(1+0j)*X0Z1: 0.77 +- 0.01427066312099604],\n",
       " ExperimentResult[Y0_0→(1+0j)*Y0: 0.884 +- 0.014790630911585981],\n",
       " ExperimentResult[Y0_0 * X0_1→(1+0j)*Y0X1: 0.759 +- 0.014562470009115317],\n",
       " ExperimentResult[Y0_0 * Y0_1→(1+0j)*Y0Y1: 0.783 +- 0.013912306643330895],\n",
       " ExperimentResult[Y0_0 * Z0_1→(1+0j)*Y0Z1: 0.787 +- 0.013798938558913735],\n",
       " ExperimentResult[Z0_0→(1+0j)*Z0: 0.9 +- 0.013790945949795835],\n",
       " ExperimentResult[Z0_0 * X0_1→(1+0j)*Z0X1: 0.752 +- 0.014743021343644913],\n",
       " ExperimentResult[Z0_0 * Y0_1→(1+0j)*Z0Y1: 0.785 +- 0.013855810757435775],\n",
       " ExperimentResult[Z0_0 * Z0_1→(1+0j)*Z0Z1: 0.776 +- 0.01410714378436955]]"
      ]
     },
     "execution_count": 8,
     "metadata": {},
     "output_type": "execute_result"
    }
   ],
   "source": [
    "%%time\n",
    "calibrations = qc.calibrate(bell_state_tomography)\n",
    "calibrations"
   ]
  },
  {
   "cell_type": "markdown",
   "metadata": {},
   "source": [
    "### Correct for noisy readout using calibration results"
   ]
  },
  {
   "cell_type": "code",
   "execution_count": 9,
   "metadata": {
    "scrolled": true
   },
   "outputs": [
    {
     "data": {
      "text/plain": [
       "[ExperimentResult[Z0_0 * Z0_1→(1+0j)*X1: 0.0045662100456621 +- 0.036116921777475025],\n",
       " ExperimentResult[Z0_0 * Z0_1→(1+0j)*Y1: -0.04387990762124711 +- 0.03651659268669426],\n",
       " ExperimentResult[Z0_0 * Z0_1→(1+0j)*Z1: 0.018140589569160998 +- 0.03586814747777249],\n",
       " ExperimentResult[Z0_0 * Z0_1→(1+0j)*X0: -0.006944444444444445 +- 0.03661831453380543],\n",
       " ExperimentResult[Z0_0 * Z0_1→(1+0j)*X0X1: 0.98828125 +- 0.026444641002639036],\n",
       " ExperimentResult[Z0_0 * Z0_1→(1+0j)*X0Y1: -0.003926701570680628 +- 0.02927518740611426],\n",
       " ExperimentResult[Z0_0 * Z0_1→(1+0j)*X0Z1: 0.03636363636363636 +- 0.02904353809603714],\n",
       " ExperimentResult[Z0_0 * Z0_1→(1+0j)*Y0: -0.02036199095022624 +- 0.035786094555706645],\n",
       " ExperimentResult[Z0_0 * Z0_1→(1+0j)*Y0X1: 0.03162055335968379 +- 0.02946583737592669],\n",
       " ExperimentResult[Z0_0 * Z0_1→(1+0j)*Y0Y1: -0.9565772669220944 +- 0.025437759579199533],\n",
       " ExperimentResult[Z0_0 * Z0_1→(1+0j)*Y0Z1: -0.03939008894536213 +- 0.028414395414503135],\n",
       " ExperimentResult[Z0_0 * Z0_1→(1+0j)*Z0: 0.026666666666666665 +- 0.03514624948436394],\n",
       " ExperimentResult[Z0_0 * Z0_1→(1+0j)*Z0X1: 0.019946808510638295 +- 0.029741607866311474],\n",
       " ExperimentResult[Z0_0 * Z0_1→(1+0j)*Z0Y1: -0.0012738853503184713 +- 0.02849206092187224],\n",
       " ExperimentResult[Z0_0 * Z0_1→(1+0j)*Z0Z1: 0.9652061855670103 +- 0.025934194205755223]]"
      ]
     },
     "execution_count": 9,
     "metadata": {},
     "output_type": "execute_result"
    }
   ],
   "source": [
    "results_corrected = []\n",
    "for r, c in zip(results, calibrations):\n",
    "    results_corrected.append(correct_experiment_result(r, c))\n",
    "results_corrected"
   ]
  },
  {
   "cell_type": "markdown",
   "metadata": {},
   "source": [
    "### Build ideal density matrix for Bell state $|00\\rangle + |11\\rangle$"
   ]
  },
  {
   "cell_type": "code",
   "execution_count": 10,
   "metadata": {},
   "outputs": [
    {
     "data": {
      "text/plain": [
       "array([[0.5, 0. , 0. , 0.5],\n",
       "       [0. , 0. , 0. , 0. ],\n",
       "       [0. , 0. , 0. , 0. ],\n",
       "       [0.5, 0. , 0. , 0.5]])"
      ]
     },
     "execution_count": 10,
     "metadata": {},
     "output_type": "execute_result"
    }
   ],
   "source": [
    "def build_rho_true() -> np.ndarray:\n",
    "    \"\"\"\n",
    "    Generate the density matrix for state |00> + |11>.\n",
    "    \"\"\"\n",
    "    psi00 = np.array([[1], [0], [0], [0]])\n",
    "    bell00 = psm.CNOT @ np.kron(psm.H, psm.I) @ psi00\n",
    "    return np.outer(bell00, bell00.T.conj())\n",
    "\n",
    "rho_true = build_rho_true()\n",
    "rho_true"
   ]
  },
  {
   "cell_type": "markdown",
   "metadata": {},
   "source": [
    "### Estimate density matrix from noisy QVM data using the linear inversion method"
   ]
  },
  {
   "cell_type": "code",
   "execution_count": 11,
   "metadata": {},
   "outputs": [
    {
     "data": {
      "text/plain": [
       "array([[ 0.503+0.j   ,  0.007+0.015j,  0.006+0.011j,  0.486-0.007j],\n",
       "       [ 0.007-0.015j,  0.007-0.j   ,  0.008+0.009j, -0.004+0.011j],\n",
       "       [ 0.006-0.011j,  0.008-0.009j,  0.011-0.j   , -0.011-0.005j],\n",
       "       [ 0.486+0.007j, -0.004-0.011j, -0.011+0.005j,  0.48 +0.j   ]])"
      ]
     },
     "execution_count": 11,
     "metadata": {},
     "output_type": "execute_result"
    }
   ],
   "source": [
    "def linear_inv_state_estimate(results: List[ExperimentResult], qubits: List[int]) -> np.ndarray:\n",
    "    \"\"\"\n",
    "    Adapted from forest.benchmarking.tomography.linear_inv_state_estimate,\n",
    "    to use pyquil.experiment.ExperimentResult objects instead.\n",
    "    \"\"\"\n",
    "    measurement_matrix = np.vstack([\n",
    "        vec(lifted_pauli(result.setting.out_operator, qubits=qubits)).T.conj() for result in results])\n",
    "    expectations = np.array([result.expectation for result in results])\n",
    "    rho = pinv(measurement_matrix) @ expectations\n",
    "    dim = 2**len(qubits)\n",
    "    return unvec(rho) + np.eye(dim) / dim\n",
    "\n",
    "rho_simulated = linear_inv_state_estimate(results_corrected, [0,1])\n",
    "np.round(rho_simulated, 3)"
   ]
  },
  {
   "cell_type": "markdown",
   "metadata": {},
   "source": [
    "### Plot the simulated data"
   ]
  },
  {
   "cell_type": "code",
   "execution_count": 12,
   "metadata": {},
   "outputs": [],
   "source": [
    "DARK_TEAL = \"#47717d\"\n",
    "GOLD = \"#f8ba2b\"\n",
    "LIGHT_TEAL = \"#66acb4\"\n",
    "NAVY = \"#00507b\"\n",
    "\n",
    "# build a custom colormap for the hinton plot\n",
    "lsc = LinearSegmentedColormap.from_list(name=\"rigetti\", colors=[NAVY, GOLD, LIGHT_TEAL, DARK_TEAL])\n",
    "ANGLE_MAPPER = ScalarMappable(norm=Normalize(vmin=-np.pi, vmax=np.pi))\n",
    "ANGLE_MAPPER.set_cmap(lsc)\n",
    "\n",
    "def hinton(matrix: np.ndarray, ax: plt.Axes) -> None:\n",
    "    \"\"\"\n",
    "    Adapted from forest.benchmarking.tomography.hinton to use custom colors.\n",
    "    \"\"\"\n",
    "    max_weight=1.0\n",
    "    ax.patch.set_facecolor(\"white\")\n",
    "    ax.set_aspect(\"equal\", \"box\")\n",
    "    ax.xaxis.set_major_locator(plt.NullLocator())\n",
    "    ax.yaxis.set_major_locator(plt.NullLocator())\n",
    "\n",
    "    for (x, y), w in np.ndenumerate(matrix):\n",
    "        color = np.arctan2(w.real, w.imag)\n",
    "        color = ANGLE_MAPPER.to_rgba(color)\n",
    "        size = np.sqrt(np.abs(w) / max_weight)\n",
    "        rect = plt.Rectangle([x - size / 2, y - size / 2], size, size,\n",
    "                             facecolor=color, edgecolor=color)\n",
    "        ax.add_patch(rect)\n",
    "\n",
    "    ax.set_xlim((-max_weight / 2, matrix.shape[0] - max_weight / 2))\n",
    "    ax.set_ylim((-max_weight / 2, matrix.shape[1] - max_weight / 2))\n",
    "    ax.autoscale_view()\n",
    "    ax.invert_yaxis()"
   ]
  },
  {
   "cell_type": "code",
   "execution_count": 13,
   "metadata": {},
   "outputs": [
    {
     "data": {
      "image/png": "[encoded data removed]",
      "text/plain": [
       "<Figure size 432x864 with 2 Axes>"
      ]
     },
     "metadata": {},
     "output_type": "display_data"
    }
   ],
   "source": [
    "fig_qvm, (ax0_qvm, ax1_qvm) = plt.subplots(2, 1, figsize=(6, 12))\n",
    "fig_qvm.subplots_adjust(hspace=0.1)\n",
    "hinton(rho_true, ax=ax0_qvm)\n",
    "hinton(rho_simulated, ax=ax1_qvm)"
   ]
  },
  {
   "cell_type": "code",
   "execution_count": 14,
   "metadata": {},
   "outputs": [
    {
     "name": "stdout",
     "output_type": "stream",
     "text": [
      "Simulated Bell state fidelity = 97.75%\n"
     ]
    }
   ],
   "source": [
    "print(f\"Simulated Bell state fidelity = {np.round(fidelity(rho_true, rho_simulated), 4)*100:.2f}%\")"
   ]
  }
 ],
 "metadata": {
  "kernelspec": {
   "display_name": "Python 3",
   "language": "python",
   "name": "python3"
  },
  "language_info": {
   "codemirror_mode": {
    "name": "ipython",
    "version": 3
   },
   "file_extension": ".py",
   "mimetype": "text/x-python",
   "name": "python",
   "nbconvert_exporter": "python",
   "pygments_lexer": "ipython3",
   "version": "3.6.3"
  }
 },
 "nbformat": 4,
 "nbformat_minor": 4
}
