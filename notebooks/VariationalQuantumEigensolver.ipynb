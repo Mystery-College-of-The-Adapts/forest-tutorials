{
 "cells": [
  {
   "cell_type": "markdown",
   "metadata": {},
   "source": [
    "# Variational Quantum Eigensolver via Parametric Compilation\n",
    "\n",
    "This notebook walks through how to simulate the $H_2$ molecule with the **Variational Quantum Eigensolver** (VQE) on a noiseless QVM and a noisy QVM, using _parametric compilation_ and pyQuil's `Experiment` framework. This notebook is copied partially from the [rigetti/qcs-paper](https://github.com/rigetti/qcs-paper) repository, where it was used to produce **Figure 8** from [_A quantum-classical cloud platform optimized for variational hybrid algorithms_](https://scirate.com/arxiv/2001.04449)."
   ]
  },
  {
   "cell_type": "code",
   "execution_count": 1,
   "metadata": {},
   "outputs": [],
   "source": [
    "import random\n",
    "from typing import Dict, List\n",
    "\n",
    "import matplotlib.pyplot as plt\n",
    "import numpy as np\n",
    "import pandas as pd\n",
    "from tqdm import tqdm\n",
    "\n",
    "from pyquil import get_qc, Program\n",
    "from pyquil.gates import CNOT, RESET, RX, RY, RZ\n",
    "from pyquil.experiment import Experiment, ExperimentResult, ExperimentSetting, correct_experiment_result\n",
    "from pyquil.paulis import sX, sY, sZ\n",
    "from pyquil.quilatom import MemoryReference"
   ]
  },
  {
   "cell_type": "markdown",
   "metadata": {},
   "source": [
    "## Simulate the Data on a Noisy QVM"
   ]
  },
  {
   "cell_type": "code",
   "execution_count": 2,
   "metadata": {},
   "outputs": [],
   "source": [
    "q0, q1 = (0, 1)\n",
    "\n",
    "shots = 500\n",
    "num_pts = 50\n",
    "\n",
    "thetas = np.linspace(start=-np.pi/2, stop=np.pi/2, num=num_pts)\n",
    "random.shuffle(thetas)\n",
    "\n",
    "bond_lengths = np.arange(start=int(0.2 * 100), stop=int(2.90 * 100), step=5) / 100\n",
    "\n",
    "qc = get_qc(\"2q-noisy-qvm\")\n",
    "qc_noisy = get_qc(\"2q-noisy-qvm\")"
   ]
  },
  {
   "cell_type": "markdown",
   "metadata": {},
   "source": [
    "### Define $H_2$ VQE `Experiment`"
   ]
  },
  {
   "cell_type": "code",
   "execution_count": 3,
   "metadata": {},
   "outputs": [
    {
     "name": "stdout",
     "output_type": "stream",
     "text": [
      "RESET\n",
      "RX(pi) 0\n",
      "DECLARE theta REAL[1]\n",
      "RY(pi/2) 0\n",
      "RX(pi/2) 1\n",
      "CNOT 0 1\n",
      "RZ(2*theta) 1\n",
      "CNOT 0 1\n",
      "RX(-pi/2) 1\n",
      "RY(-pi/2) 0\n",
      "\n"
     ]
    }
   ],
   "source": [
    "def hartree_fock_state_prep(q0: int) -> Program:\n",
    "    p = Program()\n",
    "    p += RX(np.pi, q0)\n",
    "    return p\n",
    "\n",
    "def unitary_coupled_cluster_ansatz(q0: int, q1: int, theta: MemoryReference) -> Program:\n",
    "    p = Program()\n",
    "    p += RY(np.pi/2, q0)\n",
    "    p += RX(np.pi/2, q1)\n",
    "    p += CNOT(q0, q1)\n",
    "    p += RZ(2 * theta, q1)\n",
    "    p += CNOT(q0, q1)\n",
    "    p += RX(-np.pi/2, q1)\n",
    "    p += RY(-np.pi/2, q0)\n",
    "    return p\n",
    "\n",
    "p = Program()\n",
    "p += RESET()\n",
    "p += hartree_fock_state_prep(q0)\n",
    "theta = p.declare(\"theta\", \"REAL\")\n",
    "p += unitary_coupled_cluster_ansatz(q0, q1, theta)\n",
    "p.wrap_in_numshots_loop(shots)\n",
    "print(p)"
   ]
  },
  {
   "cell_type": "code",
   "execution_count": 4,
   "metadata": {},
   "outputs": [],
   "source": [
    "xx_setting = ExperimentSetting(in_state=sZ(0)*sZ(1), out_operator=sX(0)*sX(1))\n",
    "yy_setting = ExperimentSetting(in_state=sZ(0)*sZ(1), out_operator=sY(0)*sY(1))\n",
    "zz_setting = ExperimentSetting(in_state=sZ(0)*sZ(1), out_operator=sZ(0)*sZ(1), additional_expectations=[[0], [1]])\n",
    "settings = [xx_setting, yy_setting, zz_setting]"
   ]
  },
  {
   "cell_type": "code",
   "execution_count": 5,
   "metadata": {},
   "outputs": [
    {
     "data": {
      "text/plain": [
       "shots: 500\n",
       "active reset: enabled\n",
       "symmetrization: -1 (exhaustive)\n",
       "calibration: 1 (plus_eigenstate)\n",
       "program:\n",
       "   RX(pi) 0\n",
       "   DECLARE theta REAL[1]\n",
       "   RY(pi/2) 0\n",
       "   RX(pi/2) 1\n",
       "   CNOT 0 1\n",
       "   RZ(2*theta) 1\n",
       "   CNOT 0 1\n",
       "   RX(-pi/2) 1\n",
       "   RY(-pi/2) 0\n",
       "settings:\n",
       "   0: Z0_0 * Z0_1→(1+0j)*X0X1\n",
       "   1: Z0_0 * Z0_1→(1+0j)*Y0Y1\n",
       "   2: Z0_0 * Z0_1→(1+0j)*Z0Z1"
      ]
     },
     "execution_count": 5,
     "metadata": {},
     "output_type": "execute_result"
    }
   ],
   "source": [
    "h2_vqe = Experiment(settings=settings, program=p)\n",
    "h2_vqe"
   ]
  },
  {
   "cell_type": "markdown",
   "metadata": {},
   "source": [
    "### Collect data using readout symmetrization"
   ]
  },
  {
   "cell_type": "code",
   "execution_count": 6,
   "metadata": {},
   "outputs": [
    {
     "name": "stderr",
     "output_type": "stream",
     "text": [
      "100%|██████████| 50/50 [00:32<00:00,  1.52it/s]\n"
     ]
    }
   ],
   "source": [
    "results = []\n",
    "for theta in tqdm(thetas):\n",
    "    results.append(qc.experiment(h2_vqe, memory_map={\"theta\": [theta]}))"
   ]
  },
  {
   "cell_type": "code",
   "execution_count": 7,
   "metadata": {},
   "outputs": [
    {
     "name": "stderr",
     "output_type": "stream",
     "text": [
      "100%|██████████| 50/50 [00:32<00:00,  1.56it/s]\n"
     ]
    }
   ],
   "source": [
    "results_noisy = []\n",
    "for theta in tqdm(thetas):\n",
    "    results_noisy.append(qc_noisy.experiment(h2_vqe, memory_map={\"theta\": [theta]}))"
   ]
  },
  {
   "cell_type": "markdown",
   "metadata": {},
   "source": [
    "### Perform readout calibration on all observables required for $H_2$ VQE"
   ]
  },
  {
   "cell_type": "code",
   "execution_count": 8,
   "metadata": {},
   "outputs": [
    {
     "name": "stdout",
     "output_type": "stream",
     "text": [
      "CPU times: user 479 ms, sys: 4.46 ms, total: 484 ms\n",
      "Wall time: 984 ms\n"
     ]
    }
   ],
   "source": [
    "%%time\n",
    "calibrations = qc.calibrate(h2_vqe)"
   ]
  },
  {
   "cell_type": "code",
   "execution_count": 9,
   "metadata": {},
   "outputs": [
    {
     "name": "stdout",
     "output_type": "stream",
     "text": [
      "CPU times: user 491 ms, sys: 3.44 ms, total: 494 ms\n",
      "Wall time: 969 ms\n"
     ]
    }
   ],
   "source": [
    "%%time\n",
    "calibrations_noisy = qc_noisy.calibrate(h2_vqe)"
   ]
  },
  {
   "cell_type": "markdown",
   "metadata": {},
   "source": [
    "### Correct for noisy readout using calibration results"
   ]
  },
  {
   "cell_type": "code",
   "execution_count": 10,
   "metadata": {},
   "outputs": [],
   "source": [
    "results_corrected = []\n",
    "for result in results:\n",
    "    r_corr = []\n",
    "    for r, c in zip(result, calibrations):\n",
    "        r_corr.append(correct_experiment_result(r, c))\n",
    "    results_corrected.append(r_corr)"
   ]
  },
  {
   "cell_type": "code",
   "execution_count": 11,
   "metadata": {},
   "outputs": [],
   "source": [
    "results_noisy_corrected = []\n",
    "for result in results_noisy:\n",
    "    r_corr = []\n",
    "    for r, c in zip(result, calibrations_noisy):\n",
    "        r_corr.append(correct_experiment_result(r, c))\n",
    "    results_noisy_corrected.append(r_corr)"
   ]
  },
  {
   "cell_type": "markdown",
   "metadata": {},
   "source": [
    "### Dump results into a pandas `DataFrame`"
   ]
  },
  {
   "cell_type": "code",
   "execution_count": 12,
   "metadata": {},
   "outputs": [],
   "source": [
    "def results_to_dict(results: List[ExperimentResult]) -> dict:\n",
    "    results_dict = {}\n",
    "    for result in results:\n",
    "        out_operator = result.setting.out_operator.id(sort_ops=False)\n",
    "        result_dict = result.serializable()\n",
    "        for key, value in result_dict.items():\n",
    "            results_dict[f\"{out_operator}_{key}\"] = value\n",
    "        if result.additional_results:\n",
    "            for c in result.additional_results:\n",
    "                oo = c.setting.out_operator.id(sort_ops=False)\n",
    "                rd = c.serializable()\n",
    "                for key, value in rd.items():\n",
    "                    results_dict[f\"{oo}_{key}\"] = value\n",
    "    return results_dict\n",
    "\n",
    "def results_to_dataframe(results: List[List[ExperimentResult]], thetas: np.ndarray) -> pd.DataFrame:\n",
    "    data = {}\n",
    "    for theta, step_results in zip(thetas, results):\n",
    "        data[theta] = results_to_dict(step_results)\n",
    "    return pd.DataFrame.from_dict(data, orient=\"index\")\n",
    "\n",
    "df_qvm = results_to_dataframe(results_corrected, thetas)\n",
    "df_noisy_qvm = results_to_dataframe(results_noisy_corrected, thetas)"
   ]
  },
  {
   "cell_type": "markdown",
   "metadata": {},
   "source": [
    "## Analyze and Plot the Data"
   ]
  },
  {
   "cell_type": "markdown",
   "metadata": {},
   "source": [
    "### Plot NOISY-QVM-estimated expectation values vs. VQE ansatz angle"
   ]
  },
  {
   "cell_type": "code",
   "execution_count": 13,
   "metadata": {},
   "outputs": [
    {
     "data": {
      "image/png": "[encoded data removed]",
      "text/plain": [
       "<Figure size 576x432 with 1 Axes>"
      ]
     },
     "metadata": {
      "needs_background": "light"
     },
     "output_type": "display_data"
    }
   ],
   "source": [
    "def plot_expectation_values_vs_ansatz_angle(df: pd.DataFrame, label: str) -> plt.Figure:\n",
    "    fig = plt.figure(figsize=(8, 6))\n",
    "    plt.errorbar(df.index, df[\"Z0_expectation\"], df[\"Z0_std_err\"], fmt=\".b\", label=r\"$\\langle Z_0 \\rangle$\")\n",
    "    plt.errorbar(df.index, df[\"Z1_expectation\"],  df[\"Z1_std_err\"], fmt=\".g\", label=r\"$\\langle Z_1 \\rangle$\")\n",
    "    plt.errorbar(df.index, df[\"Z0Z1_expectation\"], df[\"Z0Z1_std_err\"], fmt=\".r\", label=r\"$\\langle Z_0 Z_1 \\rangle$\")\n",
    "    plt.errorbar(df.index, df[\"Y0Y1_expectation\"], df[\"Y0Y1_std_err\"], fmt=\".c\", label=r\"$\\langle Y_0 Y_1 \\rangle$\")\n",
    "    plt.errorbar(df.index, df[\"X0X1_expectation\"], df[\"X0X1_std_err\"], fmt=\".y\", label=r\"$\\langle X_0 X_1 \\rangle$\")\n",
    "    plt.ylim(-1, 1)\n",
    "    plt.title(rf\"Expectation Values vs. Ansatz Angle - {label}\", fontsize=16)\n",
    "    plt.xlabel(r\"Ansatz Angle $\\theta$\", fontsize=16)\n",
    "    plt.ylabel(r\"Expectation Value\", fontsize=16)\n",
    "    plt.legend(loc=\"right\", fontsize=12)\n",
    "    return fig\n",
    "\n",
    "fig_expectation_noisy_qvm = plot_expectation_values_vs_ansatz_angle(df_noisy_qvm, \"NOISY-QVM\")"
   ]
  },
  {
   "cell_type": "markdown",
   "metadata": {},
   "source": [
    "### Build energy surface from expectation values"
   ]
  },
  {
   "cell_type": "code",
   "execution_count": 14,
   "metadata": {},
   "outputs": [
    {
     "name": "stderr",
     "output_type": "stream",
     "text": [
      "100%|██████████| 54/54 [00:00<00:00, 82.46it/s]\n",
      "100%|██████████| 54/54 [00:00<00:00, 83.11it/s]\n"
     ]
    }
   ],
   "source": [
    "def get_coefficients_for_bond_length(coefficients: pd.DataFrame, r: float) -> Dict[str, float]:\n",
    "    return coefficients.loc[r].to_dict()\n",
    "\n",
    "def energy_from_expectation(g: Dict[str, float], expectations: pd.DataFrame) -> pd.DataFrame:\n",
    "    energy = pd.DataFrame()\n",
    "    energy[\"H\"] = g[\"Z0\"] * expectations[\"Z0_expectation\"]\n",
    "    energy[\"H\"] += g[\"Z1\"] * expectations[\"Z1_expectation\"]\n",
    "    energy[\"H\"] += g[\"Z0Z1\"] * expectations[\"Z0Z1_expectation\"]\n",
    "    energy[\"H\"] += g[\"Y0Y1\"] * expectations[\"Y0Y1_expectation\"]\n",
    "    energy[\"H\"] += g[\"X0X1\"] * expectations[\"X0X1_expectation\"]\n",
    "    energy[\"H\"] += g[\"I0I1\"]\n",
    "    energy[\"H_err\"] = g[\"Z0\"] * expectations[\"Z0_std_err\"]\n",
    "    energy[\"H_err\"] += g[\"Z1\"] * expectations[\"Z1_std_err\"]\n",
    "    energy[\"H_err\"] += g[\"Z0Z1\"] * expectations[\"Z0Z1_std_err\"]\n",
    "    energy[\"H_err\"] += g[\"Y0Y1\"] * expectations[\"Y0Y1_std_err\"]\n",
    "    energy[\"H_err\"] += g[\"X0X1\"] * expectations[\"X0X1_std_err\"]\n",
    "    return energy\n",
    "\n",
    "def build_energy_surface(bond_lengths: np.ndarray, df: pd.DataFrame) -> pd.DataFrame:\n",
    "    coefficients = pd.read_csv(\"datasets/h2-hamiltonian-coefficients.csv\", index_col=\"R\")\n",
    "    energy_surface = pd.DataFrame()\n",
    "\n",
    "    for r in tqdm(bond_lengths):\n",
    "        g = get_coefficients_for_bond_length(coefficients, r)\n",
    "        energy = energy_from_expectation(g, df)\n",
    "        energy[\"R\"] = r\n",
    "        energy[\"theta\"] = energy.index\n",
    "        index = pd.MultiIndex.from_frame(energy[[\"R\", \"theta\"]], names=[\"R\", \"theta\"])\n",
    "        energy = energy.set_index(index)[[\"H\",\"H_err\"]]\n",
    "        energy_surface = pd.concat((energy_surface, energy))\n",
    "\n",
    "    return energy_surface\n",
    "\n",
    "energy_surface_qvm = build_energy_surface(bond_lengths, df_qvm)\n",
    "energy_surface_noisy_qvm = build_energy_surface(bond_lengths, df_noisy_qvm)"
   ]
  },
  {
   "cell_type": "markdown",
   "metadata": {},
   "source": [
    "### Calculate energy minimum for each bond length"
   ]
  },
  {
   "cell_type": "code",
   "execution_count": 15,
   "metadata": {},
   "outputs": [
    {
     "name": "stderr",
     "output_type": "stream",
     "text": [
      "100%|██████████| 54/54 [00:00<00:00, 926.50it/s]\n",
      "100%|██████████| 54/54 [00:00<00:00, 917.13it/s]\n"
     ]
    }
   ],
   "source": [
    "def calculate_energy_minima(bond_lengths: np.ndarray, energy_surface: pd.DataFrame) -> pd.DataFrame:\n",
    "    data = {}\n",
    "    for r in tqdm(bond_lengths):\n",
    "        energy_surface_r = energy_surface[energy_surface.index.get_level_values(\"R\") == r]\n",
    "        energy_min = energy_surface_r[\"H\"].min()\n",
    "        theta_min = energy_surface_r[\"H\"].idxmin()[1]\n",
    "        error_min = energy_surface_r[energy_surface_r.index.get_level_values(\"theta\") == theta_min][\"H_err\"]\n",
    "        data[r] = {\"theta\": theta_min, \"H\": energy_min, \"H_err\": float(error_min)}\n",
    "\n",
    "    minima = pd.DataFrame.from_dict(data, orient=\"index\")\n",
    "    return minima\n",
    "\n",
    "minima_qvm = calculate_energy_minima(bond_lengths, energy_surface_qvm)\n",
    "minima_noisy_qvm = calculate_energy_minima(bond_lengths, energy_surface_noisy_qvm)"
   ]
  },
  {
   "cell_type": "markdown",
   "metadata": {},
   "source": [
    "### Plot the comparison of the (ideal) QVM and NOISY-QVM minimum energy curves"
   ]
  },
  {
   "cell_type": "code",
   "execution_count": 16,
   "metadata": {},
   "outputs": [
    {
     "data": {
      "image/png": "[encoded data removed]",
      "text/plain": [
       "<Figure size 576x432 with 1 Axes>"
      ]
     },
     "metadata": {
      "needs_background": "light"
     },
     "output_type": "display_data"
    }
   ],
   "source": [
    "def plot_h2_energy_curve_comparison(\n",
    "    minima_qpu: pd.DataFrame, minima_qvm: pd.DataFrame, qpu_label: str = \"QPU\", qvm_label: str = \"QVM\"\n",
    ") -> plt.Figure:\n",
    "    fig = plt.figure(figsize=(8, 6))\n",
    "    qvm_err_min = float(minima_qvm[minima_qvm.index == minima_qvm.H.idxmin()].H_err)\n",
    "    qpu_err_min = float(minima_qpu[minima_qpu.index == minima_qpu.H.idxmin()].H_err)\n",
    "    plt.errorbar(minima_qvm.index, minima_qvm.H, minima_qvm.H_err, fmt=\"#f8ba2b\", marker=\".\",\n",
    "                 label=f\"{qvm_label.lower()} \" + \"($E_{min}$\" + f\" = {minima_qvm.H.min():.3f} +/- {qvm_err_min:.3f})\")\n",
    "    plt.errorbar(minima_qpu.index, minima_qpu.H, minima_qpu.H_err, fmt=\"#66acb4\", marker=\".\",\n",
    "                 label=f\"{qpu_label.lower()} \" + \"($E_{min}$\" + f\" = {minima_qpu.H.min():.3f} +/- {qpu_err_min:.3f})\")\n",
    "\n",
    "    min_energy_qpu = minima_qpu[\"H\"].min()\n",
    "    min_r_qpu = minima_qpu[\"H\"].idxmin()\n",
    "    min_error_qpu = float(minima_qpu[minima_qpu.index == min_r_qpu].H_err)\n",
    "    min_energy_qvm = minima_qvm[\"H\"].min()\n",
    "    min_r_qvm = minima_qvm[\"H\"].idxmin()\n",
    "    min_error_qvm = float(minima_qvm[minima_qvm.index == min_r_qvm].H_err)\n",
    "\n",
    "    min_diff = np.abs(min_energy_qpu - min_energy_qvm)\n",
    "    min_diff_error = np.sqrt(min_error_qpu ** 2 + min_error_qvm ** 2)\n",
    "    plt.text(1.8, -1.1, \"$\\Delta E_{min}$\" + f\" = {min_diff:.3f} +/- {min_diff_error:.3f}\", fontsize=14)\n",
    "\n",
    "    plt.xlim(0.2, 3.0)\n",
    "    plt.ylim(-1.2, 0.2)\n",
    "    plt.title(rf\"Computed $H_2$ Energy Curve - {qvm_label} vs. {qpu_label}\", fontsize=16)\n",
    "    plt.ylabel(\"Total Energy (Hartee)\", fontsize=16)\n",
    "    plt.xlabel(r\"Bond Length $R$ ($\\dot{A}$)\", fontsize=16)\n",
    "    plt.legend(fontsize=14)\n",
    "    return fig\n",
    "\n",
    "fig_comparison_sim = plot_h2_energy_curve_comparison(minima_noisy_qvm, minima_qvm, qpu_label=\"NOISY-QVM\")"
   ]
  }
 ],
 "metadata": {
  "kernelspec": {
   "display_name": "Python 3",
   "language": "python",
   "name": "python3"
  },
  "language_info": {
   "codemirror_mode": {
    "name": "ipython",
    "version": 3
   },
   "file_extension": ".py",
   "mimetype": "text/x-python",
   "name": "python",
   "nbconvert_exporter": "python",
   "pygments_lexer": "ipython3",
   "version": "3.6.3"
  }
 },
 "nbformat": 4,
 "nbformat_minor": 4
}
